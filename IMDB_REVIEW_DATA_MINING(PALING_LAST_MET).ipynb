{
  "nbformat": 4,
  "nbformat_minor": 0,
  "metadata": {
    "colab": {
      "provenance": []
    },
    "kernelspec": {
      "name": "python3",
      "display_name": "Python 3"
    },
    "language_info": {
      "name": "python"
    }
  },
  "cells": [
    {
      "cell_type": "code",
      "execution_count": 1,
      "metadata": {
        "id": "H2DHYQw_xlP9"
      },
      "outputs": [],
      "source": [
        "import pandas as pd\n",
        "from sklearn.model_selection import train_test_split\n",
        "from sklearn.feature_extraction.text import TfidfVectorizer\n",
        "from sklearn import svm\n",
        "from sklearn.metrics import accuracy_score\n",
        "import altair as alt\n",
        "import matplotlib.pyplot as plt"
      ]
    },
    {
      "cell_type": "code",
      "source": [
        "# Membaca file \"IMDB_review_labels.txt\"\n",
        "with open(\"IMDB_review_labels.txt\", 'r') as file:\n",
        "  lines = file.readlines()"
      ],
      "metadata": {
        "id": "og4fb9BZxwzy"
      },
      "execution_count": 2,
      "outputs": []
    },
    {
      "cell_type": "code",
      "source": [
        "# Memisahkan teks dan label\n",
        "reviews = []\n",
        "sentiments = []\n",
        "for line in lines:\n",
        "  review, sentiment = line.strip().split('\\t|')\n",
        "  reviews.append(review)\n",
        "  sentiments.append(int(sentiment))  # Mengubah label menjadi integer (0 atau 1)\n"
      ],
      "metadata": {
        "id": "CmG8UogIz9vE"
      },
      "execution_count": 3,
      "outputs": []
    },
    {
      "cell_type": "code",
      "source": [
        "# Membuat DataFrame\n",
        "data = {'Review': reviews, 'Sentiment': sentiments}\n",
        "df = pd.DataFrame(data)\n"
      ],
      "metadata": {
        "id": "s9sv3BNFyAiy"
      },
      "execution_count": 4,
      "outputs": []
    },
    {
      "cell_type": "code",
      "source": [
        "# Membagi data menjadi data latih dan data uji\n",
        "X_train, X_test, y_train, y_test = train_test_split(df['Review'], df['Sentiment'], test_size=0.2, random_state=42)\n"
      ],
      "metadata": {
        "id": "1OqiqJIHyDRB"
      },
      "execution_count": 5,
      "outputs": []
    },
    {
      "source": [
        "# Inisialisasi dan latih model SVM\n",
        "vectorizer = TfidfVectorizer(stop_words='english')\n",
        "X_train_tfidf = vectorizer.fit_transform(X_train)\n",
        "X_test_tfidf = vectorizer.transform(X_test)\n",
        "\n",
        "clf = svm.SVC(kernel='linear')\n",
        "clf.fit(X_train_tfidf, y_train)\n"
      ],
      "cell_type": "code",
      "metadata": {
        "colab": {
          "base_uri": "https://localhost:8080/",
          "height": 75
        },
        "id": "w8HJzLpMyPKL",
        "outputId": "fd846ede-5ce3-4c04-9e26-ffac9aced60a"
      },
      "execution_count": 6,
      "outputs": [
        {
          "output_type": "execute_result",
          "data": {
            "text/plain": [
              "SVC(kernel='linear')"
            ],
            "text/html": [
              "<style>#sk-container-id-1 {color: black;background-color: white;}#sk-container-id-1 pre{padding: 0;}#sk-container-id-1 div.sk-toggleable {background-color: white;}#sk-container-id-1 label.sk-toggleable__label {cursor: pointer;display: block;width: 100%;margin-bottom: 0;padding: 0.3em;box-sizing: border-box;text-align: center;}#sk-container-id-1 label.sk-toggleable__label-arrow:before {content: \"▸\";float: left;margin-right: 0.25em;color: #696969;}#sk-container-id-1 label.sk-toggleable__label-arrow:hover:before {color: black;}#sk-container-id-1 div.sk-estimator:hover label.sk-toggleable__label-arrow:before {color: black;}#sk-container-id-1 div.sk-toggleable__content {max-height: 0;max-width: 0;overflow: hidden;text-align: left;background-color: #f0f8ff;}#sk-container-id-1 div.sk-toggleable__content pre {margin: 0.2em;color: black;border-radius: 0.25em;background-color: #f0f8ff;}#sk-container-id-1 input.sk-toggleable__control:checked~div.sk-toggleable__content {max-height: 200px;max-width: 100%;overflow: auto;}#sk-container-id-1 input.sk-toggleable__control:checked~label.sk-toggleable__label-arrow:before {content: \"▾\";}#sk-container-id-1 div.sk-estimator input.sk-toggleable__control:checked~label.sk-toggleable__label {background-color: #d4ebff;}#sk-container-id-1 div.sk-label input.sk-toggleable__control:checked~label.sk-toggleable__label {background-color: #d4ebff;}#sk-container-id-1 input.sk-hidden--visually {border: 0;clip: rect(1px 1px 1px 1px);clip: rect(1px, 1px, 1px, 1px);height: 1px;margin: -1px;overflow: hidden;padding: 0;position: absolute;width: 1px;}#sk-container-id-1 div.sk-estimator {font-family: monospace;background-color: #f0f8ff;border: 1px dotted black;border-radius: 0.25em;box-sizing: border-box;margin-bottom: 0.5em;}#sk-container-id-1 div.sk-estimator:hover {background-color: #d4ebff;}#sk-container-id-1 div.sk-parallel-item::after {content: \"\";width: 100%;border-bottom: 1px solid gray;flex-grow: 1;}#sk-container-id-1 div.sk-label:hover label.sk-toggleable__label {background-color: #d4ebff;}#sk-container-id-1 div.sk-serial::before {content: \"\";position: absolute;border-left: 1px solid gray;box-sizing: border-box;top: 0;bottom: 0;left: 50%;z-index: 0;}#sk-container-id-1 div.sk-serial {display: flex;flex-direction: column;align-items: center;background-color: white;padding-right: 0.2em;padding-left: 0.2em;position: relative;}#sk-container-id-1 div.sk-item {position: relative;z-index: 1;}#sk-container-id-1 div.sk-parallel {display: flex;align-items: stretch;justify-content: center;background-color: white;position: relative;}#sk-container-id-1 div.sk-item::before, #sk-container-id-1 div.sk-parallel-item::before {content: \"\";position: absolute;border-left: 1px solid gray;box-sizing: border-box;top: 0;bottom: 0;left: 50%;z-index: -1;}#sk-container-id-1 div.sk-parallel-item {display: flex;flex-direction: column;z-index: 1;position: relative;background-color: white;}#sk-container-id-1 div.sk-parallel-item:first-child::after {align-self: flex-end;width: 50%;}#sk-container-id-1 div.sk-parallel-item:last-child::after {align-self: flex-start;width: 50%;}#sk-container-id-1 div.sk-parallel-item:only-child::after {width: 0;}#sk-container-id-1 div.sk-dashed-wrapped {border: 1px dashed gray;margin: 0 0.4em 0.5em 0.4em;box-sizing: border-box;padding-bottom: 0.4em;background-color: white;}#sk-container-id-1 div.sk-label label {font-family: monospace;font-weight: bold;display: inline-block;line-height: 1.2em;}#sk-container-id-1 div.sk-label-container {text-align: center;}#sk-container-id-1 div.sk-container {/* jupyter's `normalize.less` sets `[hidden] { display: none; }` but bootstrap.min.css set `[hidden] { display: none !important; }` so we also need the `!important` here to be able to override the default hidden behavior on the sphinx rendered scikit-learn.org. See: https://github.com/scikit-learn/scikit-learn/issues/21755 */display: inline-block !important;position: relative;}#sk-container-id-1 div.sk-text-repr-fallback {display: none;}</style><div id=\"sk-container-id-1\" class=\"sk-top-container\"><div class=\"sk-text-repr-fallback\"><pre>SVC(kernel=&#x27;linear&#x27;)</pre><b>In a Jupyter environment, please rerun this cell to show the HTML representation or trust the notebook. <br />On GitHub, the HTML representation is unable to render, please try loading this page with nbviewer.org.</b></div><div class=\"sk-container\" hidden><div class=\"sk-item\"><div class=\"sk-estimator sk-toggleable\"><input class=\"sk-toggleable__control sk-hidden--visually\" id=\"sk-estimator-id-1\" type=\"checkbox\" checked><label for=\"sk-estimator-id-1\" class=\"sk-toggleable__label sk-toggleable__label-arrow\">SVC</label><div class=\"sk-toggleable__content\"><pre>SVC(kernel=&#x27;linear&#x27;)</pre></div></div></div></div></div>"
            ]
          },
          "metadata": {},
          "execution_count": 6
        }
      ]
    },
    {
      "cell_type": "code",
      "source": [
        "# Prediksi pada data uji dan hitung akurasi\n",
        "y_pred = clf.predict(X_test_tfidf)\n",
        "accuracy = accuracy_score(y_test, y_pred)\n"
      ],
      "metadata": {
        "id": "xSeL65aEyUBx"
      },
      "execution_count": 7,
      "outputs": []
    },
    {
      "cell_type": "code",
      "source": [
        "# Menampilkan 25 contoh ulasan positif\n",
        "print(\"25 Contoh Ulasan Positif:\")\n",
        "for review in df[df['Sentiment'] == 1]['Review'].sample(25).values:\n",
        "    print(review)\n",
        "    print(\"-----\")\n",
        "\n",
        "# Menampilkan 25 contoh ulasan negatif\n",
        "print(\"\\n25 Contoh Ulasan Negatif:\")\n",
        "for review in df[df['Sentiment'] == 0]['Review'].sample(25).values:\n",
        "    print(review)\n",
        "    print(\"-----\")"
      ],
      "metadata": {
        "colab": {
          "base_uri": "https://localhost:8080/"
        },
        "id": "B7EsvlwD5Cw0",
        "outputId": "3e275e9c-058b-4b7e-964c-f488984f9bec"
      },
      "execution_count": 8,
      "outputs": [
        {
          "output_type": "stream",
          "name": "stdout",
          "text": [
            "25 Contoh Ulasan Positif:\n",
            "Tom Wilkinson broke my heart at the end... and everyone else's judging by the amount of fumbling for hankies and hands going up to faces among males and females alike.  \n",
            "-----\n",
            "Great movie!  \n",
            "-----\n",
            "Here, in The Wind and the Lion, we see a wonderful rendering of America's own Imperial age.  \n",
            "-----\n",
            "A good film by a great director!  \n",
            "-----\n",
            "If there was ever an indication of a writer and a director's ability to meld two highly volatile temperaments into a seamless union of creativity, then this is it!  \n",
            "-----\n",
            "But \"Tiny Toons\" kept the 90's vibe and delivered one of the most popular, funny, and underrated cartoons ever created.  \n",
            "-----\n",
            "Trumbull on I LOVE LUCY).  \n",
            "-----\n",
            "This is one of the best Italian thrillers of the early 70's.  \n",
            "-----\n",
            "That was funny.  \n",
            "-----\n",
            "Actually, the graphics were good at the time.  \n",
            "-----\n",
            "The cast is always entertaining as usual.  \n",
            "-----\n",
            "But this movie really got to me.  \n",
            "-----\n",
            "Lange had become a great actress.  \n",
            "-----\n",
            "See both films if you can.  \n",
            "-----\n",
            "Now you know why I gave it a 10+!  \n",
            "-----\n",
            "Lovely little thriller from Hitchcock, with lots of nice shenanigans surrounding a murdered spy, a kidnapped child, a nasty church, a foreign plot and some random taxidermists.  \n",
            "-----\n",
            "The best scene in the movie is at the end, but I won't spoil it.  \n",
            "-----\n",
            "He owns the film, just as Spacek owned \"Coal Miner's Daughter\" and Quaid owned \"Great Balls of Fire.  \n",
            "-----\n",
            "It's a campy sort of film that's a joy to watch.  \n",
            "-----\n",
            "Alexander Nevsky is a great film.  \n",
            "-----\n",
            "It looked like a wonderful story.  \n",
            "-----\n",
            "All in all a beautiful directed film from Nicola's roeg wih a sublime cast.  \n",
            "-----\n",
            "The film has great actors, a master director, a significant theme--at least a would-be significant theme, undertone of fifties existential world-weariness, aerial scenes that ought to have thrilled both senses and imagination, and characters about which one might deeply care.  \n",
            "-----\n",
            "This film highlights the fundamental flaws of the legal process, that it's not about discovering guilt or innocence, but rather, is about who presents better in court.  \n",
            "-----\n",
            "You truly take this journey through the eyes and soul of a child.  \n",
            "-----\n",
            "\n",
            "25 Contoh Ulasan Negatif:\n",
            "Really awful.  \n",
            "-----\n",
            "Every time he opened his mouth you expect to hear, \"you see kids...\" Pulling the plug was a mercy killing for this horrible show.  \n",
            "-----\n",
            "Not only did it only confirm that the film would be unfunny and generic, but it also managed to give away the ENTIRE movie; and I'm not exaggerating - every moment, every plot point, every joke is told in the trailer.  \n",
            "-----\n",
            "Artless camera-work endlessly presents us with the ugliest setting imaginable, i.e.  \n",
            "-----\n",
            "I am so tired of clichés that is just lazy writing, and here they come in thick and fast.  \n",
            "-----\n",
            "Avoid at all costs.  \n",
            "-----\n",
            "Filmiing was less expansive.  \n",
            "-----\n",
            "Unless you're just out to visually \"collect\" all extant films of Austen's work, you can skip this one.  \n",
            "-----\n",
            "But she is still a bad actress, repeating her robotic face moves in each of her pictures.  \n",
            "-----\n",
            "The guy who said he's had better dialogue with his potted plants has it right.  \n",
            "-----\n",
            "Final Word: This Show is a real torture!!  \n",
            "-----\n",
            "It's just painful!  \n",
            "-----\n",
            "There were several moments in the movie that just didn't need to be there and were excruciatingly slow moving.  \n",
            "-----\n",
            "Rating: 1 out of 10.  \n",
            "-----\n",
            "These are the central themes of the film and they are handled ineptly, stereotypically and with no depth of imagination.  \n",
            "-----\n",
            "Ironically I mostly find his films a total waste of time to watch.  \n",
            "-----\n",
            "I hate movies like that.  \n",
            "-----\n",
            "There is no plot here to keep you going in the first place.  \n",
            "-----\n",
            "If only someone involved with it knew how to string together narrative!  \n",
            "-----\n",
            "The directing and the cinematography aren't quite as good.  \n",
            "-----\n",
            "The acting by the whole cast could be put on a scale and balanced perfectly between overacting and underacting.  \n",
            "-----\n",
            "The soundtrack sucked.  \n",
            "-----\n",
            "I love Lane, but I've never seen her in a movie this lousy.  \n",
            "-----\n",
            "Just whatever you do, avoid \"Groove\" as its the antithesis of all that is good about Human Traffic.  \n",
            "-----\n",
            "It was so BORING!  \n",
            "-----\n"
          ]
        }
      ]
    },
    {
      "cell_type": "code",
      "source": [
        "# Menghitung jumlah ulasan positif dan negatif\n",
        "sentiment_counts = df['Sentiment'].value_counts()\n"
      ],
      "metadata": {
        "id": "0sVDSHid5Emc"
      },
      "execution_count": 9,
      "outputs": []
    },
    {
      "cell_type": "code",
      "source": [
        "# Membuat DataFrame untuk visualisasi\n",
        "chart_data = pd.DataFrame({'Sentiment': ['Positif', 'Negatif'], 'Jumlah': sentiment_counts.values})\n"
      ],
      "metadata": {
        "id": "qxJ9RgyC5H1s"
      },
      "execution_count": 10,
      "outputs": []
    },
    {
      "cell_type": "code",
      "source": [
        "# Membuat diagram batang\n",
        "plt.bar(sentiment_counts.index, sentiment_counts.values, color=['green', 'red'])\n",
        "plt.xlabel('Sentiment')\n",
        "plt.ylabel('Jumlah')\n",
        "plt.title('Distribusi Sentimen Ulasan Film')\n",
        "plt.xticks(sentiment_counts.index, ['Positif', 'Negatif'])\n",
        "\n",
        "# Menampilkan diagram\n",
        "plt.show()"
      ],
      "metadata": {
        "colab": {
          "base_uri": "https://localhost:8080/",
          "height": 472
        },
        "id": "JO6BII-B5OgV",
        "outputId": "c8e8e2e2-daef-4be9-f1e8-dad288bf4c95"
      },
      "execution_count": 11,
      "outputs": [
        {
          "output_type": "display_data",
          "data": {
            "text/plain": [
              "<Figure size 640x480 with 1 Axes>"
            ],
            "image/png": "[encoded data removed]"
          },
          "metadata": {}
        }
      ]
    },
    {
      "cell_type": "markdown",
      "source": [],
      "metadata": {
        "id": "Td83jlyS_94S"
      }
    },
    {
      "cell_type": "code",
      "source": [
        "# Membuat list kata kunci untuk saran membangun\n",
        "keywords = ['plot', 'acting', 'directing', 'script', 'character', 'dialog', 'cinematography', 'editing', 'ending', 'effect', 'musik','entertain','good']\n"
      ],
      "metadata": {
        "id": "RWpCQO_q_loI"
      },
      "execution_count": 25,
      "outputs": []
    },
    {
      "cell_type": "code",
      "source": [
        "# Mengklasifikasikan ulasan menjadi Konstruktif atau Non-Konstruktif\n",
        "df['Type'] = ['Konstruktif' if any(keyword in review.lower() for keyword in keywords) else 'Non-Konstruktif' for review in df['Review']]\n"
      ],
      "metadata": {
        "id": "Fb2VJJjs_qlo"
      },
      "execution_count": 27,
      "outputs": []
    },
    {
      "cell_type": "code",
      "source": [
        "# Menghitung jumlah ulasan untuk setiap jenis\n",
        "type_counts = df['Type'].value_counts()"
      ],
      "metadata": {
        "id": "afiA1X1c_s4X"
      },
      "execution_count": 28,
      "outputs": []
    },
    {
      "cell_type": "code",
      "source": [
        "# Membuat diagram lingkaran (pie chart)\n",
        "plt.pie(type_counts, labels=type_counts.index, autopct='%1.1f%%', startangle=140)\n",
        "plt.title('Proporsi Ulasan Konstruktif dan Non-Konstruktif')\n",
        "plt.axis('equal')  # Equal aspect ratio ensures that pie is drawn as a circle.\n",
        "\n",
        "# Menampilkan diagram\n",
        "plt.show()"
      ],
      "metadata": {
        "colab": {
          "base_uri": "https://localhost:8080/",
          "height": 433
        },
        "id": "pevVNRJQ_vHw",
        "outputId": "db4ba342-6248-4ad4-df12-101685f622cb"
      },
      "execution_count": 29,
      "outputs": [
        {
          "output_type": "display_data",
          "data": {
            "text/plain": [
              "<Figure size 640x480 with 1 Axes>"
            ],
            "image/png": "[encoded data removed]"
          },
          "metadata": {}
        }
      ]
    },
    {
      "cell_type": "markdown",
      "source": [
        "### **KESIMPULANNYA**\n",
        "File \"IMDB_review_labels.txt\" berisi 1000 ulasan film dengan sentimen seimbang, 500 positif (label 1) dan 500 negatif (label 0).\n",
        "\n",
        "Dataset ini dapat digunakan untuk melatih model pembelajaran mesin untuk analisis sentimen, seperti yang ditunjukkan pada contoh penggunaan Support Vector Machine (SVM) dengan akurasi 75%.\n",
        "\n",
        "Dataset yang berisi ulasan film dengan label sentimen (positif atau negatif) biasanya digunakan untuk mengembangkan beberapa aplikasi berikut:\n",
        "\n",
        "1.  **Analisis Sentimen Otomatis:** Tujuan utama dari dataset ini adalah untuk melatih model machine learning, seperti SVM (Support Vector Machine), untuk secara otomatis mengklasifikasikan ulasan baru sebagai positif atau negatif. Hal ini berguna untuk berbagai keperluan, termasuk:\n",
        "    *   **Monitoring Reputasi Merek:** Perusahaan dapat melacak sentimen publik terhadap produk atau layanan mereka.\n",
        "    *   **Analisis Umpan Balik Pelanggan:** Bisnis dapat menganalisis umpan balik pelanggan untuk memahami apa yang disukai dan tidak disukai pelanggan.\n",
        "    *   **Rekomendasi Produk:** Sistem rekomendasi dapat menggunakan sentimen ulasan untuk memberikan rekomendasi yang lebih baik kepada pengguna.\n",
        "2.  **Penelitian Linguistik Komputasional:** Dataset ini dapat digunakan oleh peneliti untuk mempelajari bagaimana bahasa digunakan untuk mengungkapkan sentimen, serta untuk mengembangkan teknik baru dalam pemrosesan bahasa alami (natural language processing/NLP).\n",
        "3.  **Pembelajaran Mesin:** Dataset ini dapat digunakan untuk melatih berbagai model pembelajaran mesin lainnya, seperti Naive Bayes, regresi logistik, atau jaringan saraf, untuk tugas klasifikasi teks.\n",
        "4.  **Pembuatan Dataset yang Lebih Besar:** Dataset ini dapat digabungkan dengan dataset lain yang serupa untuk membuat dataset yang lebih besar dan lebih beragam, yang dapat meningkatkan kinerja model machine learning.\n",
        "\n",
        "Secara keseluruhan, dataset ulasan film berlabel sentimen adalah sumber daya yang berharga untuk berbagai aplikasi dalam analisis sentimen, penelitian bahasa, dan pembelajaran mesin."
      ],
      "metadata": {
        "id": "4COxgu5y8Lr-"
      }
    },
    {
      "cell_type": "code",
      "source": [],
      "metadata": {
        "id": "nugJt7lZ8Q66"
      },
      "execution_count": null,
      "outputs": []
    }
  ]
}